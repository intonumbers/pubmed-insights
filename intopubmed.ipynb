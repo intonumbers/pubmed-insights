{
 "metadata": {
  "language_info": {
   "codemirror_mode": {
    "name": "ipython",
    "version": 3
   },
   "file_extension": ".py",
   "mimetype": "text/x-python",
   "name": "python",
   "nbconvert_exporter": "python",
   "pygments_lexer": "ipython3",
   "version": "3.7.4-final"
  },
  "orig_nbformat": 2,
  "kernelspec": {
   "name": "Python 3.7.4 64-bit",
   "display_name": "Python 3.7.4 64-bit",
   "metadata": {
    "interpreter": {
     "hash": "4028582640cf01b7ad6b540af68b0b7a542cae77c9934d15302e045e772fef3b"
    }
   }
  }
 },
 "nbformat": 4,
 "nbformat_minor": 2,
 "cells": [
  {
   "source": [
    "# PubMed Insights\n",
    "A Jupyter notebook for creating word-clouds based on titles, abstracts, keywords, results, authors, and conclusions from Pubmed publications.\n"
   ],
   "cell_type": "markdown",
   "metadata": {}
  },
  {
   "cell_type": "code",
   "execution_count": 1,
   "metadata": {},
   "outputs": [
    {
     "output_type": "display_data",
     "data": {
      "text/plain": "GridBox(children=(Text(value='', layout=Layout(grid_area='email_field', width='auto'), placeholder='enter your…",
      "application/vnd.jupyter.widget-view+json": {
       "version_major": 2,
       "version_minor": 0,
       "model_id": "c9184195695e4de592928427234c1592"
      }
     },
     "metadata": {}
    },
    {
     "output_type": "display_data",
     "data": {
      "text/plain": "Output()",
      "application/vnd.jupyter.widget-view+json": {
       "version_major": 2,
       "version_minor": 0,
       "model_id": "3e2ebcfd6ab841e59bc57e4d0530c36b"
      }
     },
     "metadata": {}
    }
   ],
   "source": [
    "from utils.app import App\n",
    "app = App()"
   ]
  },
  {
   "source": [
    "## Quick Guide\n",
    "1. run the code cell and wait until the user interface appears\n",
    "\n",
    "2. enter your email address (reqired for PubMed)\n",
    "\n",
    "3. execute your search\n",
    "    - you can search for specific PubMed IDs (comma seperated), eg: 31351196, 29782946, 27019357\n",
    "    - or query for a search term (\"Max Results\" defines them maximum number of downloaded publications based on your search term)\n",
    "\n",
    "4. after clicking \"search for ...\" you can change the folowing settings for your visualization:\n",
    "    - **Ignore Words:** here you can exclude terms from your visualization (comma seperated, word combinations have to be combined with \"_\"), eg: cancer, bone_cancer, cancer_patient. \n",
    "    - **Cloud Size:** how many terms appear in the word-clouds\n",
    "    - **Min Grams & Max Grams:** the minimum and maximum number of grams to which the visualized terms correspond (\"cancer\" = 1-gram, \"bone_cancer\" = 2-gram, etc)\n",
    "    - **Top Jpurnals:** the number of journals which appear in the \"most frequent journals\" graph\n",
    "    - **Long Gram Weight:** defines if terms with more words should be weighted higher in the wordclouds\n",
    "    - **Remove Incomplete Author Names:** defines if authors with missing given- or family-names should appear in the author wordcloud\n",
    "    - **Remove Isolated Numbers:** defines if numbers should be ignored for the visualization\n",
    "\n",
    "5. click \"GENERATE GRAPHS\"\n",
    "    - **IMPORTANT:** if you only want to change any visualization settings, you don't have to repeat your search, just change the desired parameters and re-generate the grpahs. \n",
    "    \n",
    "6. Visualization description:\n",
    "    - **Overall Wordcloud:** represents the frequency of each term\n",
    "    - **Publication Wordcloud:** represents the frequency of publications each term is found in\n",
    "    - **Authors Wordcloud:** represents the frequency of authors\n",
    "    - **Conclusion Wordcloud:** represents the frequency of terms found in the publications \"conclusion\" section\n",
    "    - **Keyword Wordcloud:** represents the frequency of terms found in the publications \"keywords\" section\n",
    "    - **Journal Barchart:** represents the journal distribution of the queried publications\n",
    "    - **Publication Year Chart:** represents the publication year distribution of the queried publications"
   ],
   "cell_type": "markdown",
   "metadata": {}
  },
  {
   "source": [
    "### Credits & special thanks\n",
    "\n",
    "Dr. Georg Feichtinger \n",
    "- for inspiration and testing\n",
    "\n",
    "Gijs Wobben \n",
    "- for his pymed library, which was a great foundation for my PubMed queries \n",
    "- https://github.com/gijswobben/pymed"
   ],
   "cell_type": "markdown",
   "metadata": {}
  }
 ]
}