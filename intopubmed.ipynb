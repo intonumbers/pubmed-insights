{
 "metadata": {
  "language_info": {
   "codemirror_mode": {
    "name": "ipython",
    "version": 3
   },
   "file_extension": ".py",
   "mimetype": "text/x-python",
   "name": "python",
   "nbconvert_exporter": "python",
   "pygments_lexer": "ipython3",
   "version": "3.7.4-final"
  },
  "orig_nbformat": 2,
  "kernelspec": {
   "name": "Python 3.7.4 64-bit",
   "display_name": "Python 3.7.4 64-bit",
   "metadata": {
    "interpreter": {
     "hash": "4028582640cf01b7ad6b540af68b0b7a542cae77c9934d15302e045e772fef3b"
    }
   }
  }
 },
 "nbformat": 4,
 "nbformat_minor": 2,
 "cells": [
  {
   "source": [
    "# PubMed Insights\n",
    "A Jupyter notebook for creating word-clouds based on titles, abstracts, keywords, results, authors, and conclusions from Pubmed publications.\n"
   ],
   "cell_type": "markdown",
   "metadata": {}
  },
  {
   "cell_type": "code",
   "execution_count": 1,
   "metadata": {},
   "outputs": [
    {
     "output_type": "display_data",
     "data": {
      "text/plain": "GridBox(children=(Text(value='', layout=Layout(grid_area='email_field', width='auto'), placeholder='enter your…",
      "application/vnd.jupyter.widget-view+json": {
       "version_major": 2,
       "version_minor": 0,
       "model_id": "95b869bd2771471c8a6fd2b61b267a83"
      }
     },
     "metadata": {}
    },
    {
     "output_type": "display_data",
     "data": {
      "text/plain": "Output()",
      "application/vnd.jupyter.widget-view+json": {
       "version_major": 2,
       "version_minor": 0,
       "model_id": "9f546682d4d543b69463eb9675dec38c"
      }
     },
     "metadata": {}
    }
   ],
   "source": [
    "from utils.app import App\n",
    "app = App()"
   ]
  },
  {
   "source": [
    "### Credits & special thanks\n",
    "\n",
    "Dr. Georg Feichtinger \n",
    "- for inspiration and testing\n",
    "\n",
    "Gijs Wobben \n",
    "- for his pymed library, which was a great foundation for my PubMed queries \n",
    "- https://github.com/gijswobben/pymed"
   ],
   "cell_type": "markdown",
   "metadata": {}
  }
 ]
}